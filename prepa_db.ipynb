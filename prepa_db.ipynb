{
 "cells": [
  {
   "cell_type": "code",
   "execution_count": 1,
   "metadata": {},
   "outputs": [],
   "source": [
    "# !python -m pip install pymongo\n",
    "# !python -m pip install pymongo[srv]"
   ]
  },
  {
   "cell_type": "code",
   "execution_count": 2,
   "metadata": {},
   "outputs": [],
   "source": [
    "# pandas\n",
    "import pandas as pd\n",
    "# mongodb python driver\n",
    "from pymongo import MongoClient\n",
    "# library to make the output look more pretty\n",
    "from pprint import pprint\n",
    "# json\n",
    "import json\n",
    "\n",
    "from bson.objectid import ObjectId"
   ]
  },
  {
   "cell_type": "markdown",
   "metadata": {},
   "source": [
    "### Data format : csv => json"
   ]
  },
  {
   "cell_type": "code",
   "execution_count": 3,
   "metadata": {},
   "outputs": [
    {
     "name": "stdout",
     "output_type": "stream",
     "text": [
      "411\n"
     ]
    }
   ],
   "source": [
    "df = pd.DataFrame(pd.read_csv(\"reviews_orange_test.csv\", sep = \",\", header = 0, names=['_id', 'review', 'retrieval_date', 'relative_date', 'rating', 'username', 'adress']))\n",
    "\n",
    "print(len(df))\n",
    "\n",
    "df.to_json(\"boutiques.json\", orient = \"records\")\n",
    "# df.to_json(\"boutiques.json\", orient = \"records\", date_format = \"epoch\", double_precision = 10, force_ascii = True, date_unit = \"ms\", default_handler = None)"
   ]
  },
  {
   "cell_type": "code",
   "execution_count": 4,
   "metadata": {},
   "outputs": [
    {
     "data": {
      "text/html": [
       "<div>\n",
       "<style scoped>\n",
       "    .dataframe tbody tr th:only-of-type {\n",
       "        vertical-align: middle;\n",
       "    }\n",
       "\n",
       "    .dataframe tbody tr th {\n",
       "        vertical-align: top;\n",
       "    }\n",
       "\n",
       "    .dataframe thead th {\n",
       "        text-align: right;\n",
       "    }\n",
       "</style>\n",
       "<table border=\"1\" class=\"dataframe\">\n",
       "  <thead>\n",
       "    <tr style=\"text-align: right;\">\n",
       "      <th></th>\n",
       "      <th>_id</th>\n",
       "      <th>review</th>\n",
       "      <th>retrieval_date</th>\n",
       "      <th>relative_date</th>\n",
       "      <th>rating</th>\n",
       "      <th>username</th>\n",
       "      <th>adress</th>\n",
       "    </tr>\n",
       "  </thead>\n",
       "  <tbody>\n",
       "    <tr>\n",
       "      <th>0</th>\n",
       "      <td>ChZDSUhNMG9nS0VJQ0FnSUMwaU92TVN3EAEaFjByWVhFMH...</td>\n",
       "      <td>NaN</td>\n",
       "      <td>il y a 4 jours</td>\n",
       "      <td>2019-09-17 16:24:17.037033</td>\n",
       "      <td>4 étoiles</td>\n",
       "      <td>舒森钧</td>\n",
       "      <td>Orange Alesia</td>\n",
       "    </tr>\n",
       "    <tr>\n",
       "      <th>1</th>\n",
       "      <td>ChZDSUhNMG9nS0VJQ0FnSURVbjU3Q0NREAEaFnhFQy0tMX...</td>\n",
       "      <td>NaN</td>\n",
       "      <td>il y a une semaine</td>\n",
       "      <td>2019-09-17 16:24:17.039033</td>\n",
       "      <td>5 étoiles</td>\n",
       "      <td>Kristin Bridges</td>\n",
       "      <td>Orange Alesia</td>\n",
       "    </tr>\n",
       "    <tr>\n",
       "      <th>2</th>\n",
       "      <td>ChZDSUhNMG9nS0VJQ0FnSURVMjdIZWNREAEaFmJGY3JkeV...</td>\n",
       "      <td>NaN</td>\n",
       "      <td>il y a une semaine</td>\n",
       "      <td>2019-09-17 16:24:17.040033</td>\n",
       "      <td>5 étoiles</td>\n",
       "      <td>Melvin Geng</td>\n",
       "      <td>Orange Alesia</td>\n",
       "    </tr>\n",
       "    <tr>\n",
       "      <th>3</th>\n",
       "      <td>ChdDSUhNMG9nS0VJQ0FnSURVbTV1eWpnRRABGhZReDlENk...</td>\n",
       "      <td>NaN</td>\n",
       "      <td>il y a une semaine</td>\n",
       "      <td>2019-09-17 16:24:17.042033</td>\n",
       "      <td>3 étoiles</td>\n",
       "      <td>Liliane Poustay</td>\n",
       "      <td>Orange Alesia</td>\n",
       "    </tr>\n",
       "    <tr>\n",
       "      <th>4</th>\n",
       "      <td>ChZDSUhNMG9nS0VJQ0FnSURVLXJiX0VREAEaFjhXVDN4Rn...</td>\n",
       "      <td>Très bons accueil et conseils</td>\n",
       "      <td>il y a 3 semaines</td>\n",
       "      <td>2019-09-17 16:24:17.043033</td>\n",
       "      <td>5 étoiles</td>\n",
       "      <td>Nathalie Hare</td>\n",
       "      <td>Orange Alesia</td>\n",
       "    </tr>\n",
       "  </tbody>\n",
       "</table>\n",
       "</div>"
      ],
      "text/plain": [
       "                                                 _id  \\\n",
       "0  ChZDSUhNMG9nS0VJQ0FnSUMwaU92TVN3EAEaFjByWVhFMH...   \n",
       "1  ChZDSUhNMG9nS0VJQ0FnSURVbjU3Q0NREAEaFnhFQy0tMX...   \n",
       "2  ChZDSUhNMG9nS0VJQ0FnSURVMjdIZWNREAEaFmJGY3JkeV...   \n",
       "3  ChdDSUhNMG9nS0VJQ0FnSURVbTV1eWpnRRABGhZReDlENk...   \n",
       "4  ChZDSUhNMG9nS0VJQ0FnSURVLXJiX0VREAEaFjhXVDN4Rn...   \n",
       "\n",
       "                          review      retrieval_date  \\\n",
       "0                            NaN      il y a 4 jours   \n",
       "1                            NaN  il y a une semaine   \n",
       "2                            NaN  il y a une semaine   \n",
       "3                            NaN  il y a une semaine   \n",
       "4  Très bons accueil et conseils   il y a 3 semaines   \n",
       "\n",
       "                relative_date     rating         username         adress  \n",
       "0  2019-09-17 16:24:17.037033  4 étoiles              舒森钧  Orange Alesia  \n",
       "1  2019-09-17 16:24:17.039033  5 étoiles  Kristin Bridges  Orange Alesia  \n",
       "2  2019-09-17 16:24:17.040033  5 étoiles      Melvin Geng  Orange Alesia  \n",
       "3  2019-09-17 16:24:17.042033  3 étoiles  Liliane Poustay  Orange Alesia  \n",
       "4  2019-09-17 16:24:17.043033  5 étoiles    Nathalie Hare  Orange Alesia  "
      ]
     },
     "execution_count": 4,
     "metadata": {},
     "output_type": "execute_result"
    }
   ],
   "source": [
    "pd.set_option('display.max_columns', None)\n",
    "df.head()"
   ]
  },
  {
   "cell_type": "code",
   "execution_count": 5,
   "metadata": {
    "scrolled": true
   },
   "outputs": [
    {
     "name": "stdout",
     "output_type": "stream",
     "text": [
      "_id\n",
      "review\n",
      "retrieval_date\n",
      "relative_date\n",
      "rating\n",
      "username\n",
      "adress\n"
     ]
    }
   ],
   "source": [
    "for col in df.columns: \n",
    "    print(col) "
   ]
  },
  {
   "cell_type": "markdown",
   "metadata": {},
   "source": [
    "### Get data to insert to db"
   ]
  },
  {
   "cell_type": "code",
   "execution_count": 6,
   "metadata": {},
   "outputs": [
    {
     "name": "stdout",
     "output_type": "stream",
     "text": [
      "411\n"
     ]
    }
   ],
   "source": [
    "with open('boutiques.json') as f:\n",
    "    data = json.load(f)\n",
    "\n",
    "# pprint(data)\n",
    "print(len(data))"
   ]
  },
  {
   "cell_type": "code",
   "execution_count": 7,
   "metadata": {},
   "outputs": [],
   "source": [
    "# localhost example connexion\n",
    "\n",
    "# client = MongoClient('localhost', 32769)\n",
    "# db=client.admin\n",
    "\n",
    "# Issue the serverStatus command and print the results\n",
    "# serverStatusResult=db.command(\"serverStatus\")\n",
    "# pprint(serverStatusResult)"
   ]
  },
  {
   "cell_type": "markdown",
   "metadata": {},
   "source": [
    "### db connexion"
   ]
  },
  {
   "cell_type": "code",
   "execution_count": 8,
   "metadata": {},
   "outputs": [],
   "source": [
    "# get credentials for connexion\n",
    "with open('credentials.json') as f:\n",
    "    credentials = json.load(f)\n",
    "    \n",
    "username = credentials['Username']\n",
    "password = credentials['Password']\n",
    "hostname = credentials['Hostname']"
   ]
  },
  {
   "cell_type": "code",
   "execution_count": 9,
   "metadata": {},
   "outputs": [],
   "source": [
    "# client connexion to Atlas server\n",
    "client = MongoClient('mongodb+srv://'+username+':'+password+'@'+hostname+'/test?retryWrites=true&w=majority')"
   ]
  },
  {
   "cell_type": "code",
   "execution_count": 10,
   "metadata": {},
   "outputs": [],
   "source": [
    "# retrieve db\n",
    "db = client.get_database('nlp_project')"
   ]
  },
  {
   "cell_type": "code",
   "execution_count": 11,
   "metadata": {},
   "outputs": [
    {
     "data": {
      "text/plain": [
       "411"
      ]
     },
     "execution_count": 11,
     "metadata": {},
     "output_type": "execute_result"
    }
   ],
   "source": [
    "# get collection 'boutiques'\n",
    "records = db.boutiques\n",
    "\n",
    "# count documents\n",
    "records.count_documents({})"
   ]
  },
  {
   "cell_type": "markdown",
   "metadata": {},
   "source": [
    "### Insert datas"
   ]
  },
  {
   "cell_type": "code",
   "execution_count": 12,
   "metadata": {},
   "outputs": [
    {
     "name": "stdout",
     "output_type": "stream",
     "text": [
      "Error or insert already done ?\n"
     ]
    }
   ],
   "source": [
    "# insert data into collection 'boutiques'\n",
    "\n",
    "try:\n",
    "    records.insert_many(data)\n",
    "#     records.insert_many(data, {\"ordered\":false})\n",
    "#     records.update({data}, {upsert: true})\n",
    "    \n",
    "    # count documents\n",
    "    records.count_documents({})\n",
    "except :\n",
    "    print(\"Error or insert already done ?\")"
   ]
  },
  {
   "cell_type": "markdown",
   "metadata": {},
   "source": [
    "### Find datas"
   ]
  },
  {
   "cell_type": "code",
   "execution_count": 13,
   "metadata": {
    "scrolled": false
   },
   "outputs": [
    {
     "data": {
      "text/plain": [
       "[{'_id': 'ChZDSUhNMG9nS0VJQ0FnSUMwaU92TVN3EAEaFjByWVhFMHlXNTFMekFoWW1ZVlFHNHc',\n",
       "  'review': None,\n",
       "  'retrieval_date': 'il y a 4\\xa0jours',\n",
       "  'relative_date': '2019-09-17 16:24:17.037033',\n",
       "  'rating': '4\\xa0étoiles',\n",
       "  'username': '舒森钧',\n",
       "  'adress': 'Orange Alesia'},\n",
       " {'_id': 'ChZDSUhNMG9nS0VJQ0FnSURVbjU3Q0NREAEaFnhFQy0tMXR1SG9QbHpxZFlfSUtuZWc',\n",
       "  'review': None,\n",
       "  'retrieval_date': 'il y a une semaine',\n",
       "  'relative_date': '2019-09-17 16:24:17.039033',\n",
       "  'rating': '5\\xa0étoiles',\n",
       "  'username': 'Kristin Bridges',\n",
       "  'adress': 'Orange Alesia'},\n",
       " {'_id': 'ChZDSUhNMG9nS0VJQ0FnSURVMjdIZWNREAEaFmJGY3JkeVNfLThTWk9zV0hCTHhxeEE',\n",
       "  'review': None,\n",
       "  'retrieval_date': 'il y a une semaine',\n",
       "  'relative_date': '2019-09-17 16:24:17.040033',\n",
       "  'rating': '5\\xa0étoiles',\n",
       "  'username': 'Melvin Geng',\n",
       "  'adress': 'Orange Alesia'},\n",
       " {'_id': 'ChdDSUhNMG9nS0VJQ0FnSURVbTV1eWpnRRABGhZReDlENkZPdVVZcEZ0d1lRUnlEb1FR',\n",
       "  'review': None,\n",
       "  'retrieval_date': 'il y a une semaine',\n",
       "  'relative_date': '2019-09-17 16:24:17.042033',\n",
       "  'rating': '3\\xa0étoiles',\n",
       "  'username': 'Liliane Poustay',\n",
       "  'adress': 'Orange Alesia'},\n",
       " {'_id': 'ChZDSUhNMG9nS0VJQ0FnSURVLXJiX0VREAEaFjhXVDN4RnotZGtoMTZPVC1BTHBwWGc',\n",
       "  'review': 'Très bons accueil et conseils',\n",
       "  'retrieval_date': 'il y a 3\\xa0semaines',\n",
       "  'relative_date': '2019-09-17 16:24:17.043033',\n",
       "  'rating': '5\\xa0étoiles',\n",
       "  'username': 'Nathalie Hare',\n",
       "  'adress': 'Orange Alesia'}]"
      ]
     },
     "execution_count": 13,
     "metadata": {},
     "output_type": "execute_result"
    }
   ],
   "source": [
    "list(records.find().limit(5))"
   ]
  },
  {
   "cell_type": "markdown",
   "metadata": {},
   "source": [
    "### Find document with specific user"
   ]
  },
  {
   "cell_type": "code",
   "execution_count": 14,
   "metadata": {
    "scrolled": false
   },
   "outputs": [
    {
     "data": {
      "text/plain": [
       "{'_id': 'ChZDSUhNMG9nS0VJQ0FnSURrdjdhbFZnEAEaFlBuWUlzRUdLWU9EejVQRlZvQjZCOWc',\n",
       " 'review': 'Bonjour Personnel très sympa très bon accueil et surtout très professionnel, a l écoute de toutes nos questions et prend le temps avec son client  Après  plusieurs gros problèmes avec un autre opérateur, je suis très satisfaite d être passée chez orange.',\n",
       " 'retrieval_date': 'il y a 2\\xa0mois',\n",
       " 'relative_date': '2019-09-17 16:24:17.048033',\n",
       " 'rating': '5\\xa0étoiles',\n",
       " 'username': 'Sylvie Delettre',\n",
       " 'adress': 'Orange Alesia'}"
      ]
     },
     "execution_count": 14,
     "metadata": {},
     "output_type": "execute_result"
    }
   ],
   "source": [
    "records.find_one({'username': 'Sylvie Delettre'})"
   ]
  },
  {
   "cell_type": "markdown",
   "metadata": {},
   "source": [
    "### Get specific fields only"
   ]
  },
  {
   "cell_type": "code",
   "execution_count": 15,
   "metadata": {
    "scrolled": true
   },
   "outputs": [
    {
     "data": {
      "text/plain": [
       "list"
      ]
     },
     "execution_count": 15,
     "metadata": {},
     "output_type": "execute_result"
    }
   ],
   "source": [
    "comments = list(records.find({'username':{\"$ne\":None}, 'review':{\"$ne\":None}}, \n",
    "                             {'adress':1, 'username':1, 'review':1, '_id':0})\n",
    "                            .limit(10))\n",
    "type(comments)"
   ]
  },
  {
   "cell_type": "code",
   "execution_count": 16,
   "metadata": {
    "scrolled": true
   },
   "outputs": [
    {
     "name": "stdout",
     "output_type": "stream",
     "text": [
      "Orange Alesia\n",
      "Nathalie Hare\n",
      "Très bons accueil et conseils \n",
      "\n",
      "Orange Alesia\n",
      "Catherine Bellamy\n",
      "J'ai été très bien accueillie à la boutique Orange. Personnel très aimable et compétent. Très peu d'attente et mon problème d'Ipad a été très bien résolu. \n",
      "\n",
      "Orange Alesia\n",
      "Sylvie Delettre\n",
      "Bonjour Personnel très sympa très bon accueil et surtout très professionnel, a l écoute de toutes nos questions et prend le temps avec son client  Après  plusieurs gros problèmes avec un autre opérateur, je suis très satisfaite d être passée chez orange. \n",
      "\n",
      "Orange Alesia\n",
      "Jacques Charton\n",
      "Parfait. Personnel très agréable. Pas d attente. \n",
      "\n",
      "Orange Alesia\n",
      "Alice Ayshalice02\n",
      "Attente debout quelques places assises (3 /4) personnel correct. \n",
      "\n",
      "Orange Alesia\n",
      "Dominique Colinet\n",
      "Problème de décodeur blanc Livebox ne fonctionne pas correctement depuis février 19 dimanche enfin orange décide de le changer . Je me suis déplacer hier en boutique pour un échange on me remet en boutique un nouveau décodeur mais recycler, de ce fait la connection télé ne se fait pas . Assistance tél orange m’indique que cela vient du décodeur recycle. Donc de nouveau je dois me redéployer pour faire un échange. Avant février j’etais Chez free depuis plus de 15 ans je regrette d’avoir changé opérateu.... \n",
      "\n",
      "Orange Alesia\n",
      "André Rogério\n",
      "(Traduit par Google) Excellent!  (Original) Excelente! \n",
      "\n",
      "Orange Alesia\n",
      "mireille Benoit\n",
      "Cliente comme mon mari depuis des années chez Orange. Je suis très déçue de mon dernier passage. Je suis allée changer mon smartphone qui avait 2 problèmes. La batterie qui n'en pouvait plus, celui que l'on m'a remplacé est guère mieux. Le chargeur aussi a été changé mais on me l'a fait payer presque 15€ alors qu'il fesait parti du pack d'achat. Les photos de mes contacts sont toutes floutees. Je suis très déçue. Je dois le changer au mois d'octobre, j'y réfléchirais. Quand à l'accueil dure, dure. Désolée. \n",
      "\n",
      "Orange Alesia\n",
      "Nadia Destribois Trari\n",
      "Très bon accueil. Rapide et efficace \n",
      "\n",
      "Orange Alesia\n",
      "martine de lemos\n",
      "Petite visite sans rdv à la boutique ORANGE alésia..personnel très pro et sympa ..on est vite pris en charge et aiguillé suivant notre demande ! \n",
      "\n"
     ]
    }
   ],
   "source": [
    "for item in comments:\n",
    "    print(item['adress'])\n",
    "    print(item['username'])\n",
    "    print(item['review'], '\\n')"
   ]
  },
  {
   "cell_type": "markdown",
   "metadata": {},
   "source": [
    "### Count reviews by boutique address"
   ]
  },
  {
   "cell_type": "code",
   "execution_count": 25,
   "metadata": {},
   "outputs": [
    {
     "data": {
      "text/plain": [
       "[{'_id': \"'Orange Place d''Italie'\", 'reviews': 252},\n",
       " {'_id': 'Orange Alesia', 'reviews': 159}]"
      ]
     },
     "execution_count": 25,
     "metadata": {},
     "output_type": "execute_result"
    }
   ],
   "source": [
    "nb = records.aggregate([\n",
    "    {\"$group\" : {\"_id\":\"$adress\", \"reviews\":{\"$sum\":1}}}\n",
    "    ])\n",
    "list(nb)"
   ]
  },
  {
   "cell_type": "code",
   "execution_count": 46,
   "metadata": {},
   "outputs": [
    {
     "name": "stdout",
     "output_type": "stream",
     "text": [
      "['Orange Alesia', \"'Orange Place d''Italie'\"]\n"
     ]
    },
    {
     "data": {
      "text/plain": [
       "'Orange Alesia'"
      ]
     },
     "execution_count": 46,
     "metadata": {},
     "output_type": "execute_result"
    }
   ],
   "source": [
    "list_boutiques = list(records.distinct('adress'))\n",
    "print(list_boutiques)\n",
    "list_boutiques[0]"
   ]
  },
  {
   "cell_type": "code",
   "execution_count": 49,
   "metadata": {},
   "outputs": [],
   "source": [
    "def comments_by_boutique(boutique_address):\n",
    "    result = records.count_documents({\"adress\": boutique_address})\n",
    "    return result"
   ]
  },
  {
   "cell_type": "code",
   "execution_count": 51,
   "metadata": {},
   "outputs": [
    {
     "data": {
      "text/plain": [
       "252"
      ]
     },
     "execution_count": 51,
     "metadata": {},
     "output_type": "execute_result"
    }
   ],
   "source": [
    "comments_by_boutique(list_boutiques[1])"
   ]
  },
  {
   "cell_type": "code",
   "execution_count": null,
   "metadata": {},
   "outputs": [],
   "source": []
  },
  {
   "cell_type": "code",
   "execution_count": null,
   "metadata": {},
   "outputs": [],
   "source": []
  }
 ],
 "metadata": {
  "kernelspec": {
   "display_name": "Python 3",
   "language": "python",
   "name": "python3"
  },
  "language_info": {
   "codemirror_mode": {
    "name": "ipython",
    "version": 3
   },
   "file_extension": ".py",
   "mimetype": "text/x-python",
   "name": "python",
   "nbconvert_exporter": "python",
   "pygments_lexer": "ipython3",
   "version": "3.7.3"
  },
  "toc": {
   "base_numbering": 1,
   "nav_menu": {},
   "number_sections": true,
   "sideBar": true,
   "skip_h1_title": false,
   "title_cell": "Table of Contents",
   "title_sidebar": "Contents",
   "toc_cell": false,
   "toc_position": {},
   "toc_section_display": true,
   "toc_window_display": false
  },
  "varInspector": {
   "cols": {
    "lenName": 16,
    "lenType": 16,
    "lenVar": 40
   },
   "kernels_config": {
    "python": {
     "delete_cmd_postfix": "",
     "delete_cmd_prefix": "del ",
     "library": "var_list.py",
     "varRefreshCmd": "print(var_dic_list())"
    },
    "r": {
     "delete_cmd_postfix": ") ",
     "delete_cmd_prefix": "rm(",
     "library": "var_list.r",
     "varRefreshCmd": "cat(var_dic_list()) "
    }
   },
   "types_to_exclude": [
    "module",
    "function",
    "builtin_function_or_method",
    "instance",
    "_Feature"
   ],
   "window_display": false
  }
 },
 "nbformat": 4,
 "nbformat_minor": 2
}
